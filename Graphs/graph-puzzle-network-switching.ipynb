{
 "cells": [
  {
   "cell_type": "markdown",
   "metadata": {},
   "source": [
    "## <u>Graph Puzzle - Network Switching</u>\n",
    "\n",
    "In Shopee Data Center, there are many switches of which some are\n",
    "interconnected to form a network. Sometimes, after adding a connections to the network, if we find that there is some issue, we may remove the last added connections. You will need to solve a similar problem. You are given an empty network with **N switches (numbered 1 to N)** and no connections between switches. \n",
    "You will also face **Q scenarios** in chronological order. \n",
    "\n",
    "Each scenario can be any of the following:\n",
    "\n",
    "● **PUSH u v**: You have to add a new connection between switches u and v **(u ≠ v, 1 <= u, v <= N)**. Note that there can be multiple connections between the same pair of switches.\n",
    "\n",
    "● **POP**: From all the connections currently present in the network, remove the one that was added most recently. There will be at least one connection in the network when this scenario is given.\n",
    "\n",
    "\n",
    "After performing the operation in each scenario, print the number of connected components formed by the switches in this network.\n",
    "\n",
    "\n",
    "### <u>Input</u>\n",
    "\n",
    "The first line of test case begins with integer Q (1 <= Q <= 5 * 105) and N (1 <= N <= 5 * 105) indicating the number of scenarios and number of switches in the network respectively. \n",
    "Next Q lines will each contain a scenario as described above.\n",
    "\n",
    "<u>Example:</u>\n",
    "\n",
    "12 5<br></br>\n",
    "PUSH 1 2<br></br>\n",
    "PUSH 2 3<br></br>\n",
    "PUSH 1 4<br></br>\n",
    "POP<br></br>\n",
    "PUSH 1 3<br></br>\n",
    "PUSH 4 5<br></br>\n",
    "PUSH 1 4<br></br>\n",
    "POP<br></br>\n",
    "POP<br></br>\n",
    "POP<br></br>\n",
    "POP<br></br>\n",
    "POP<br></br>\n",
    "\n",
    "### <u>Output</u>\n",
    "\n",
    "For each query, you will need to print the answer in a separate line.\n",
    "\n",
    "<u>Example:</u>\n",
    "\n",
    "4<br></br>\n",
    "3<br></br>\n",
    "2<br></br>\n",
    "3<br></br>\n",
    "3<br></br>\n",
    "2<br></br>\n",
    "1<br></br>\n",
    "2<br></br>\n",
    "3<br></br>\n",
    "3<br></br>\n",
    "4<br></br>\n",
    "5<br></br>"
   ]
  },
  {
   "cell_type": "code",
   "execution_count": 39,
   "metadata": {},
   "outputs": [],
   "source": [
    "from collections import defaultdict"
   ]
  },
  {
   "cell_type": "markdown",
   "metadata": {},
   "source": [
    "**Since POP can be given consecutively to existing connections without any new ones added, we need a stack-like structure to store connections. Each 'layer' will store the connections between the two switches, u and v**\n",
    "\n",
    "**We'll also need to keep track of number of connections between switches using dictionary of u as keys and values as dictionary of v as keys and values as number of connections between that u and v i.e { u: { v: [nb_connections] } }**"
   ]
  },
  {
   "cell_type": "code",
   "execution_count": 45,
   "metadata": {},
   "outputs": [],
   "source": [
    "def read(scenario, scenarios):\n",
    "    \"\"\"\n",
    "    This function validates a switching command and adds it to the execution stack\n",
    "    \"\"\"\n",
    "    if scenario == \"POP\":\n",
    "        scenarios.append(scenario)\n",
    "        return True\n",
    "    elif scenario.split()[0] == \"PUSH\":\n",
    "        scenarios.append(scenario)\n",
    "        return True\n",
    "    else:\n",
    "        return False\n",
    "\n",
    "def execute(scenarios):\n",
    "    \"\"\"\n",
    "    This function executes the scenarios in the execution stack in chronological order\n",
    "    \"\"\"\n",
    "    for scenario in scenarios:\n",
    "        if scenario == \"POP\":\n",
    "            pop(stack)\n",
    "        else:\n",
    "            _, u, v = scenario.split()\n",
    "            push(stack, int(u) , int(v))\n",
    "            \n",
    "        find_groups(network)\n",
    "\n",
    "def push(stack, u, v):\n",
    "    \"\"\"\n",
    "    This function adds the connection (u, v) onto the stack\n",
    "    \"\"\"\n",
    "    stack.append((u,v))\n",
    "    add_connection(network, connections, u, v)\n",
    "\n",
    "def pop(stack):\n",
    "    \"\"\"\n",
    "    This function removes the most recent connection from the stack\n",
    "    \"\"\"\n",
    "    connection = stack[-1]\n",
    "    del stack[-1]\n",
    "    remove_connection(network, connections, connection[0], connection[1])\n",
    "\n",
    "def add_connection(network, connections, u, v):\n",
    "    \"\"\"\n",
    "    This function adds the connection (u, v) into the network graph and updates the connectivity structure\n",
    "    \"\"\"\n",
    "    if v not in network[u]:\n",
    "        network[u].append(v)\n",
    "        network[v].append(u)\n",
    "        \n",
    "    connections[u][v].append(1)\n",
    "    connections[v][u].append(1)\n",
    "\n",
    "def remove_connection(network, connections, u, v):\n",
    "    \"\"\"\n",
    "    This function removes the connection (u, v) from the network graph and updates the connectivity structure\n",
    "    \"\"\"\n",
    "    if v in network[u]:\n",
    "        if len(connections[u][v]) > 1:\n",
    "            del connections[u][v][-1]\n",
    "            del connections[v][u][-1]\n",
    "        else:\n",
    "            del connections[u][v][-1]\n",
    "            del connections[v][u][-1]\n",
    "            network[u].remove(v)\n",
    "            network[v].remove(u)"
   ]
  },
  {
   "cell_type": "markdown",
   "metadata": {},
   "source": [
    "#### Finding number of connected components with the following logic:\n",
    "\n",
    "If network[switch(i)] ∩ network[switch(j)] != ∅, then network[switch(i)] and network[switch(j)] are both subsets of the same connected component"
   ]
  },
  {
   "cell_type": "code",
   "execution_count": 44,
   "metadata": {},
   "outputs": [],
   "source": [
    "def find_groups(network):\n",
    "    \"\"\"\n",
    "    This function derives the number of connected components in the switch network\n",
    "    \"\"\"\n",
    "    groups = []\n",
    "    for k in sorted(network.keys()):\n",
    "        #print(\"K = \" + str(k))\n",
    "        #print(network[k])\n",
    "        \n",
    "        if len(network[k]) == 0:\n",
    "            groups.append(network[k] + [k])\n",
    "            \n",
    "        elif len(groups)==0:\n",
    "            groups.append(network[k] + [k])\n",
    "            \n",
    "        else:\n",
    "            temp = set(network[k] + [k])\n",
    "            #print(\"Set = \" + str(temp))\n",
    "            for idx in range(len(groups)):\n",
    "                tmp = set(groups[idx])\n",
    "                #print(\"tmp = \" + str(tmp))\n",
    "                if tmp.intersection(temp):\n",
    "                    groups[idx] = groups[idx] + network[k] + [k]\n",
    "                    break\n",
    "                else:\n",
    "                    if idx == (len(groups)-1):\n",
    "                        groups.append(network[k]+[k])\n",
    "            \n",
    "    print(\"Number of connected components: \" + str(len(groups)))"
   ]
  },
  {
   "cell_type": "code",
   "execution_count": 41,
   "metadata": {},
   "outputs": [
    {
     "name": "stdout",
     "output_type": "stream",
     "text": [
      "Input number of scenarios(Q) and switches(N): 12 5\n"
     ]
    }
   ],
   "source": [
    "scenario_switch = str(input(\"Input number of scenarios(Q) and switches(N): \"))\n",
    "Q, N = map(int, scenario_switch.split())\n",
    "\n",
    "stack = []\n",
    "network = defaultdict(list)  # { switch: [adjacent_switch, ...] }\n",
    "connections = defaultdict(lambda: defaultdict(list))  # { switch: {adjacent_switch: [nb_connections]} }"
   ]
  },
  {
   "cell_type": "code",
   "execution_count": 42,
   "metadata": {},
   "outputs": [
    {
     "name": "stdout",
     "output_type": "stream",
     "text": [
      "PUSH 1 2\n",
      "PUSH 2 3\n",
      "PUSH 1 4\n",
      "POP\n",
      "PUSH 1 3\n",
      "PUSH 4 5\n",
      "PUSH 1 4\n",
      "POP\n",
      "POP\n",
      "POP\n",
      "POP\n",
      "POP\n"
     ]
    }
   ],
   "source": [
    "for switch in range(1,N+1):\n",
    "    network.update({switch:[]}) # initialise the empty network\n",
    "    \n",
    "scenarios = []\n",
    "for q in range(Q): # get all Q scenarios\n",
    "    valid = False\n",
    "    while(not valid):\n",
    "        valid = read(str(input()), scenarios)\n",
    "        if(not valid):\n",
    "            print(\"Input either 'POP' or 'PUSH u v' where u and v are valid switches!!!\")"
   ]
  },
  {
   "cell_type": "code",
   "execution_count": 43,
   "metadata": {},
   "outputs": [
    {
     "name": "stdout",
     "output_type": "stream",
     "text": [
      "Number of connected components: 4\n",
      "Number of connected components: 3\n",
      "Number of connected components: 2\n",
      "Number of connected components: 3\n",
      "Number of connected components: 3\n",
      "Number of connected components: 2\n",
      "Number of connected components: 1\n",
      "Number of connected components: 2\n",
      "Number of connected components: 3\n",
      "Number of connected components: 3\n",
      "Number of connected components: 4\n",
      "Number of connected components: 5\n"
     ]
    }
   ],
   "source": [
    "execute(scenarios)"
   ]
  }
 ],
 "metadata": {
  "kernelspec": {
   "display_name": "Python 3",
   "language": "python",
   "name": "python3"
  },
  "language_info": {
   "codemirror_mode": {
    "name": "ipython",
    "version": 3
   },
   "file_extension": ".py",
   "mimetype": "text/x-python",
   "name": "python",
   "nbconvert_exporter": "python",
   "pygments_lexer": "ipython3",
   "version": "3.7.6"
  }
 },
 "nbformat": 4,
 "nbformat_minor": 4
}
