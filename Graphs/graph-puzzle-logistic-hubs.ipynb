{
 "cells": [
  {
   "cell_type": "markdown",
   "metadata": {},
   "source": [
    "## <u>Graph Puzzle - Logistic Hubs</u>\n",
    "\n",
    "We have a lot of interesting tasks at Shopee. One of them is a logistics problem. In this problem, we need to deliver goods from the hub to the final customer. <br></br>\n",
    "\n",
    "Before that, we're able move goods between the hubs. Shopee has a giant network of hubs but in this task, we will be using the network with **N** hubs and **(N - 1)** routes between them. Each hub is reachable from any other hub. <br></br>\n",
    "\n",
    "One of the problems in logistics is network optimization. Before that, we need to conduct research and problematic routes.<br></br>\n",
    "\n",
    "For example, finding the largest path and making a route between two most distant hubs. We calling it “The longest\n",
    "Path”.<br></br>\n",
    "\n",
    "In this task, you will find the ***second longest path*** in the network and output its length."
   ]
  },
  {
   "cell_type": "markdown",
   "metadata": {},
   "source": [
    "### <u>Input</u>"
   ]
  },
  {
   "cell_type": "markdown",
   "metadata": {},
   "source": [
    "Input starts with an integer **N (5 ≤ N ≤ 105)**, denoting the number of hubs. <br></br>\n",
    "Next (N - 1) lines contain three values: two hubs and the route length between them. **Li ≤ 105**.<br></br>\n",
    "\n",
    "<u>Example</u>:<br></br>\n",
    "5<br></br>\n",
    "1 2 5<br></br>\n",
    "2 3 1<br></br>\n",
    "2 4 2<br></br>\n",
    "2 5 3<br></br>"
   ]
  },
  {
   "cell_type": "markdown",
   "metadata": {},
   "source": [
    "### <u>Output</u>"
   ]
  },
  {
   "cell_type": "markdown",
   "metadata": {},
   "source": [
    "One line - length of the second longest path\n",
    "\n",
    "<u>Example:</u><br></br>\n",
    "7\n",
    "\n",
    "Explanation:<br></br>\n",
    "The longest path will be 1 -> 2 -> 5 : (8)<br></br>\n",
    "The second longest path will be 1 -> 2 -> 4 : (7)<br></br>"
   ]
  },
  {
   "cell_type": "code",
   "execution_count": 1,
   "metadata": {},
   "outputs": [],
   "source": [
    "from collections import defaultdict"
   ]
  },
  {
   "cell_type": "markdown",
   "metadata": {},
   "source": [
    "#### Note: With N hubs and (N - 1) routes between them, that makes a complete tree graph"
   ]
  },
  {
   "cell_type": "code",
   "execution_count": 23,
   "metadata": {},
   "outputs": [
    {
     "name": "stdout",
     "output_type": "stream",
     "text": [
      "Input number of hubs: 8\n",
      "1 2 3\n",
      "3 2 5\n",
      "4 2 7\n",
      "2 5 1\n",
      "5 6 2\n",
      "2 7 1\n",
      "2 8 4\n",
      "Graph: \n",
      "defaultdict(<class 'list'>, {1: [2], 2: [1, 3, 4, 5, 7, 8], 3: [2], 4: [2], 5: [2, 6], 6: [5], 7: [2], 8: [2]})\n",
      "\n",
      "Route Lengths:\n",
      "defaultdict(<class 'dict'>, {1: {2: 3}, 2: {1: 3, 3: 5, 4: 7, 5: 1, 7: 1, 8: 4}, 3: {2: 5}, 4: {2: 7}, 5: {2: 1, 6: 2}, 6: {5: 2}, 7: {2: 1}, 8: {2: 4}})\n"
     ]
    }
   ],
   "source": [
    "nb_hubs = int(input(\"Input number of hubs: \"))\n",
    "graph = defaultdict(list)  # { node: [adjacent_node] }\n",
    "edges = defaultdict(dict)  # { node: {adjacent_node:edge value} }\n",
    "\n",
    "for N in range(nb_hubs-1):\n",
    "    u, v, e = map(int, input().split()) \n",
    "    graph[u].append(v)\n",
    "    graph[v].append(u)\n",
    "    edges[u].update({v:e})\n",
    "    edges[v].update({u:e})\n",
    "\n",
    "print(\"Graph: \")\n",
    "print(graph)\n",
    "print()\n",
    "print(\"Route Lengths:\")\n",
    "print(edges)"
   ]
  },
  {
   "cell_type": "code",
   "execution_count": 12,
   "metadata": {},
   "outputs": [],
   "source": [
    "# idea: from every node, n, we traverse to every other node, m where m > n\n",
    "# results: we will get a list of all path lengths, sort and take second last\n",
    "\n",
    "def find_path(graph, start, end, path=[]):\n",
    "    \"\"\"\n",
    "    This function returns the path between any two nodes\n",
    "    \"\"\"\n",
    "    path = path + [start]\n",
    "    if start == end:\n",
    "        return path\n",
    "    \n",
    "    paths = []\n",
    "    for node in graph[start]:\n",
    "        if node not in path:\n",
    "            newpaths = find_path(graph, node, end, path)\n",
    "            \n",
    "            for newpath in newpaths:\n",
    "                paths.append(newpath)\n",
    "    return paths"
   ]
  },
  {
   "cell_type": "code",
   "execution_count": 13,
   "metadata": {},
   "outputs": [],
   "source": [
    "def route_length(edges, src, dest):\n",
    "    \"\"\"\n",
    "    This function returns the route length between two adjacent hubs\n",
    "    \n",
    "    edges = dict with distinct hubs, n, as key, value is another dict of all adjacent hubs to n as key, value is route length\n",
    "    \n",
    "    e.g edges = {hub_1:{hub_2: 5}, hub_2: {hub_1: 5, hub_3: 1}, ...}\n",
    "    \"\"\"\n",
    "    return edges[src][dest]"
   ]
  },
  {
   "cell_type": "code",
   "execution_count": 21,
   "metadata": {},
   "outputs": [],
   "source": [
    "def compute_cost(paths, edges):\n",
    "    \"\"\"\n",
    "    This function computes the cost of all traversals in paths from node n to m\n",
    "    \n",
    "    paths = {node_1: [[path_2], [path_3], ...] \n",
    "             node_2: [[path_3], [path_4], ...],\n",
    "             .\n",
    "             .\n",
    "             .\n",
    "             node_(N-2): [[path_(N-1)], [path_N]],\n",
    "             node_(N-1): [[path_N]],\n",
    "             node_N: [[]]}\n",
    "    \"\"\"\n",
    "    path_cost = []\n",
    "    for node in sorted(paths.keys()):\n",
    "        for path in paths[node]:\n",
    "            s = 0\n",
    "            for n in range(1, len(path)):\n",
    "                s = s + route_length(edges, path[n-1], path[n])\n",
    "            print(\"Path from node \" + str(path[0]) + \" to node \" + str(path[len(path)-1]) + \" = \" + str(s))\n",
    "            path_cost.append(s)\n",
    "    \n",
    "    return path_cost"
   ]
  },
  {
   "cell_type": "code",
   "execution_count": 24,
   "metadata": {},
   "outputs": [
    {
     "name": "stdout",
     "output_type": "stream",
     "text": [
      "Path from node 1 to node 2 = 3\n",
      "Path from node 1 to node 3 = 8\n",
      "Path from node 1 to node 4 = 10\n",
      "Path from node 1 to node 5 = 4\n",
      "Path from node 1 to node 6 = 6\n",
      "Path from node 1 to node 7 = 4\n",
      "Path from node 1 to node 8 = 7\n",
      "Path from node 2 to node 3 = 5\n",
      "Path from node 2 to node 4 = 7\n",
      "Path from node 2 to node 5 = 1\n",
      "Path from node 2 to node 6 = 3\n",
      "Path from node 2 to node 7 = 1\n",
      "Path from node 2 to node 8 = 4\n",
      "Path from node 3 to node 4 = 12\n",
      "Path from node 3 to node 5 = 6\n",
      "Path from node 3 to node 6 = 8\n",
      "Path from node 3 to node 7 = 6\n",
      "Path from node 3 to node 8 = 9\n",
      "Path from node 4 to node 5 = 8\n",
      "Path from node 4 to node 6 = 10\n",
      "Path from node 4 to node 7 = 8\n",
      "Path from node 4 to node 8 = 11\n",
      "Path from node 5 to node 6 = 2\n",
      "Path from node 5 to node 7 = 2\n",
      "Path from node 5 to node 8 = 5\n",
      "Path from node 6 to node 7 = 4\n",
      "Path from node 6 to node 8 = 7\n",
      "Path from node 7 to node 8 = 5\n",
      "Answer: 11\n"
     ]
    }
   ],
   "source": [
    "path_lengths = defaultdict(list)\n",
    "\n",
    "for src_node in range(1, nb_hubs+1):\n",
    "    for dest_node in range(1,nb_hubs+1):\n",
    "        if dest_node > src_node:\n",
    "            path_lengths[src_node].append(find_path(graph,src_node,dest_node))\n",
    "            \n",
    "print(\"Answer: \" + str(sorted(compute_cost(path_lengths,edges))[-2]))"
   ]
  },
  {
   "cell_type": "code",
   "execution_count": null,
   "metadata": {},
   "outputs": [],
   "source": []
  }
 ],
 "metadata": {
  "kernelspec": {
   "display_name": "Python 3",
   "language": "python",
   "name": "python3"
  },
  "language_info": {
   "codemirror_mode": {
    "name": "ipython",
    "version": 3
   },
   "file_extension": ".py",
   "mimetype": "text/x-python",
   "name": "python",
   "nbconvert_exporter": "python",
   "pygments_lexer": "ipython3",
   "version": "3.7.6"
  }
 },
 "nbformat": 4,
 "nbformat_minor": 4
}
