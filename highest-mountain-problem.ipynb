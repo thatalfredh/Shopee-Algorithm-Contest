{
 "cells": [
  {
   "cell_type": "markdown",
   "metadata": {},
   "source": [
    "## <u>Highest Mountain</u>\n",
    "\n",
    "In order to climb a mountain, the mountain has to either increase or decrease **consistently by 1** and has **at least one** side to be able to be seen connected to the ground. Given that 1 is ground level, “2324” is not a valid mountain to be climbed, while “1234” and “4321” are valid mountains with height of 4. \n",
    " \n",
    "Find the height of the highest climbable mountain.\n",
    "\n",
    "### <u>Input</u> \n",
    " \n",
    "The first line will specify the N number of mountain ranges.\n",
    " \n",
    "Subsequent N sets will have length L and a series of numbers separated by space representing the height (H)\n",
    " \n",
    "Height: 1 <= H <= 1000 \n",
    " \n",
    "Length: 1 <= L <= 1000 \n",
    " \n",
    "### <u>Output</u>\n",
    " \n",
    "Integer specifying the height (H) of the highest mountain and index (I) of the peak. \n",
    "\n",
    "If there are multiple mountains with the same height, return the leftmost mountain.<br></br>If the height or index is not available, return -1. Return the result for each case with format “Case #{N}: H I” "
   ]
  },
  {
   "cell_type": "markdown",
   "metadata": {},
   "source": [
    "#### Example Explanations:\n",
    "\n",
    "**1 2 3** 2 3 4 2 3 2 5 <br></br>\n",
    "3 has a way to enter from the ground while 4 and 5 doesn’t. The highest mountain will be \"1 2 3\" with the height of 3 because a mountain can only be either increase or decrease consistently by 1 and **not both**. When it increase from 1 to 3, it cannot decrease to 2 again.<br></br>\n",
    "\n",
    "3 2 3 2 3 **4 3 2 1** 4<br></br>\n",
    "4 has a way to enter from the ground and it is decreasing consistently by 1.<br></br>\n",
    "\n",
    "2 3 4 5 6<br></br>\n",
    "There is no way to enter from the ground.<br></br>\n",
    "\n",
    "**1 2** 4 5<br></br>\n",
    "The mountain is unable to jump from 2 to 4. "
   ]
  },
  {
   "cell_type": "markdown",
   "metadata": {},
   "source": [
    "#### Sample Input:\n",
    "6 \n",
    " \n",
    "10 \n",
    "\n",
    "1 2 3 2 3 4 2 3 2 5 \n",
    " \n",
    "10 \n",
    "\n",
    "3 2 3 2 3 4 3 2 1 4 \n",
    " \n",
    "5 \n",
    "\n",
    "1 1 1 1 1 \n",
    " \n",
    "10 \n",
    "\n",
    "10 9 8 7 6 5 4 3 2 1 \n",
    " \n",
    "1 \n",
    "\n",
    "5 \n",
    " \n",
    "1 \n",
    "\n",
    "1 \n",
    "\n",
    "#### Sample Output:\n",
    "Case #1: 3 2 \n",
    "\n",
    "Case #2: 4 5 \n",
    "\n",
    "Case #3: 1 0 \n",
    "\n",
    "Case #4: 10 0 \n",
    "\n",
    "Case #5: -1 -1 \n",
    "\n",
    "Case #6: 1 0 "
   ]
  },
  {
   "cell_type": "code",
   "execution_count": 71,
   "metadata": {},
   "outputs": [
    {
     "name": "stdout",
     "output_type": "stream",
     "text": [
      "Number of mountain ranges(N): 8\n",
      "Length: 10\n",
      "Input sequence of heights(H): 1 2 3 2 3 4 2 3 2 5\n",
      "Length: 10\n",
      "Input sequence of heights(H): 3 2 3 2 3 4 3 1 2 4\n",
      "Length: 5\n",
      "Input sequence of heights(H): 1 1 1 1 1\n",
      "Length: 10\n",
      "Input sequence of heights(H): 10 9 8 7 6 5 4 3 2 1\n",
      "Length: 1\n",
      "Input sequence of heights(H): 5\n",
      "Length: 1\n",
      "Input sequence of heights(H): 1\n",
      "Length: 15\n",
      "Input sequence of heights(H): 1 2 3 4 3 2 1 2 3 4 5 6 5 4 3\n",
      "Length: 12\n",
      "Input sequence of heights(H): 11 9 10 3 2 1 1 2 4 5 6 7\n"
     ]
    }
   ],
   "source": [
    "nb_mountains = int(input(\"Number of mountain ranges(N): \"))\n",
    "mountain_ranges = []\n",
    "for n in range(nb_mountains):\n",
    "    L = int(input(\"Length: \"))\n",
    "    while True:\n",
    "        mountain = list(map(int, input(\"Input sequence of heights(H): \").split()))\n",
    "        if len(mountain) != L:\n",
    "            print(\"Length of H should equal L!!!\")\n",
    "            continue\n",
    "        else: \n",
    "            mountain_ranges.append(mountain)\n",
    "            break"
   ]
  },
  {
   "cell_type": "code",
   "execution_count": 72,
   "metadata": {},
   "outputs": [
    {
     "data": {
      "text/plain": [
       "[[1, 2, 3, 2, 3, 4, 2, 3, 2, 5],\n",
       " [3, 2, 3, 2, 3, 4, 3, 1, 2, 4],\n",
       " [1, 1, 1, 1, 1],\n",
       " [10, 9, 8, 7, 6, 5, 4, 3, 2, 1],\n",
       " [5],\n",
       " [1],\n",
       " [1, 2, 3, 4, 3, 2, 1, 2, 3, 4, 5, 6, 5, 4, 3],\n",
       " [11, 9, 10, 3, 2, 1, 1, 2, 4, 5, 6, 7]]"
      ]
     },
     "execution_count": 72,
     "metadata": {},
     "output_type": "execute_result"
    }
   ],
   "source": [
    "mountain_ranges"
   ]
  },
  {
   "cell_type": "markdown",
   "metadata": {},
   "source": [
    "- if 1 is not in sequence of H: mountain cannot be climbed\n",
    "- if 1 is in sequence but L == 1 : return 1, 0\n",
    "- else iterate consecutively increasing (decreasing) sequence from (to) 1 (> height) and take last (first) index"
   ]
  },
  {
   "cell_type": "code",
   "execution_count": 73,
   "metadata": {},
   "outputs": [],
   "source": [
    "def find_peak(mountain):\n",
    "    \"\"\"\n",
    "    This function returns the max height of a climbable mountain and its corresponding index\n",
    "    \"\"\"\n",
    "    # --- simple case where mountain cannot be climbed\n",
    "    if 1 not in mountain:\n",
    "        return -1, -1\n",
    "    \n",
    "    # --- simple case where we do not need to carry out computation\n",
    "    if len(mountain) == 1:\n",
    "        return 1, 0\n",
    "\n",
    "    # --- initialize\n",
    "    L = len(mountain)\n",
    "    height_idx = mountain.index(1)\n",
    "    height = 1\n",
    "    \n",
    "    # --- mountain search\n",
    "    for idx in range(1, L):\n",
    "        if mountain[idx] == (mountain[idx-1] + 1) and mountain[idx-1] == 1: # increasing sequence with prev value == 1\n",
    "            i = idx+1\n",
    "            while (i < L) and mountain[i] == (mountain[i-1] + 1):\n",
    "                i+=1\n",
    "            \n",
    "            if mountain[i-1] > height:\n",
    "                height_idx = i-1\n",
    "                height = mountain[height_idx]\n",
    "                    \n",
    "        elif mountain[idx] == (mountain[idx-1] - 1) and mountain[idx-1] > height: # decreasing sequence with prev value > height\n",
    "            i = idx+1\n",
    "            while (i < L) and mountain[i] == (mountain[i-1] - 1):\n",
    "                i+=1\n",
    "            \n",
    "            if mountain[i-1]==1:\n",
    "                height_idx = idx-1\n",
    "                height = mountain[height_idx]\n",
    "                    \n",
    "            \n",
    "    return height, height_idx"
   ]
  },
  {
   "cell_type": "code",
   "execution_count": 74,
   "metadata": {},
   "outputs": [
    {
     "name": "stdout",
     "output_type": "stream",
     "text": [
      "Case 1: 3 2\n",
      "Case 2: 2 8\n",
      "Case 3: 1 0\n",
      "Case 4: 10 0\n",
      "Case 5: -1 -1\n",
      "Case 6: 1 0\n",
      "Case 7: 6 11\n",
      "Case 8: 3 3\n"
     ]
    }
   ],
   "source": [
    "for case in range(len(mountain_ranges)):\n",
    "    h, idx = find_peak(mountain_ranges[case])\n",
    "    print(\"Case \" + str(case+1) + \": \" + str(h) + \" \" + str(idx))"
   ]
  },
  {
   "cell_type": "code",
   "execution_count": null,
   "metadata": {},
   "outputs": [],
   "source": []
  }
 ],
 "metadata": {
  "kernelspec": {
   "display_name": "Python 3",
   "language": "python",
   "name": "python3"
  },
  "language_info": {
   "codemirror_mode": {
    "name": "ipython",
    "version": 3
   },
   "file_extension": ".py",
   "mimetype": "text/x-python",
   "name": "python",
   "nbconvert_exporter": "python",
   "pygments_lexer": "ipython3",
   "version": "3.7.6"
  }
 },
 "nbformat": 4,
 "nbformat_minor": 4
}
